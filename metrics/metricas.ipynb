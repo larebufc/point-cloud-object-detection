{
  "cells": [
    {
      "cell_type": "markdown",
      "metadata": {
        "id": "eeJEsLRRgzqP"
      },
      "source": [
        "### Métodos"
      ]
    },
    {
      "cell_type": "code",
      "execution_count": null,
      "metadata": {
        "id": "VLNh0P7QkTbz"
      },
      "outputs": [],
      "source": [
        "!pip install open3d\n",
        "!pip install scipy\n",
        "\n",
        "import open3d as o3d\n",
        "from scipy.spatial.distance import directed_hausdorff\n",
        "\n",
        "# Função para calcular a Distância Hausdorff\n",
        "def hausdorff_distance(source_points, target_points):\n",
        "    d_forward = directed_hausdorff(source_points, target_points)[0]\n",
        "    d_backward = directed_hausdorff(target_points, source_points)[0]\n",
        "    return max(d_forward, d_backward)\n",
        "\n",
        "# Função para calcular o Índice de Jaccard\n",
        "def jaccard_index(source_points, target_points, voxel_size=0.02):\n",
        "    source_voxel = o3d.geometry.VoxelGrid.create_from_point_cloud(o3d.geometry.PointCloud(o3d.utility.Vector3dVector(source_points)), voxel_size)\n",
        "    target_voxel = o3d.geometry.VoxelGrid.create_from_point_cloud(o3d.geometry.PointCloud(o3d.utility.Vector3dVector(target_points)), voxel_size)\n",
        "\n",
        "    source_voxel_coords = set(tuple(v.grid_index) for v in source_voxel.get_voxels())\n",
        "    target_voxel_coords = set(tuple(v.grid_index) for v in target_voxel.get_voxels())\n",
        "\n",
        "    intersection = source_voxel_coords.intersection(target_voxel_coords)\n",
        "    union = source_voxel_coords.union(target_voxel_coords)\n",
        "\n",
        "    if not union:\n",
        "        return 1.0  # Caso especial onde ambas as nuvens de pontos não têm voxels\n",
        "\n",
        "    jaccard = len(intersection) / len(union)\n",
        "    return jaccard"
      ]
    }
  ],
  "metadata": {
    "colab": {
      "provenance": []
    },
    "kernelspec": {
      "display_name": "Python 3",
      "name": "python3"
    },
    "language_info": {
      "codemirror_mode": {
        "name": "ipython",
        "version": 3
      },
      "file_extension": ".py",
      "mimetype": "text/x-python",
      "name": "python",
      "nbconvert_exporter": "python",
      "pygments_lexer": "ipython3",
      "version": "3.8.19"
    }
  },
  "nbformat": 4,
  "nbformat_minor": 0
}
